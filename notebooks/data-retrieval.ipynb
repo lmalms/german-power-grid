{
 "cells": [
  {
   "cell_type": "code",
   "execution_count": null,
   "id": "959b4a8d",
   "metadata": {},
   "outputs": [],
   "source": [
    "%reload_ext autoreload\n",
    "%autoreload 2\n",
    "\n",
    "import os\n",
    "from tqdm import tqdm\n",
    "import json\n",
    "import datetime as dt\n",
    "import numpy as np\n",
    "import pandas as pd"
   ]
  },
  {
   "cell_type": "code",
   "execution_count": null,
   "id": "95c029d2",
   "metadata": {},
   "outputs": [],
   "source": [
    "os.chdir(\"../src\")\n",
    "\n",
    "from gpg.data_retrieval.config import *\n",
    "from gpg.data_retrieval.client import EntsoeClient"
   ]
  },
  {
   "cell_type": "code",
   "execution_count": null,
   "id": "2a278899",
   "metadata": {},
   "outputs": [],
   "source": [
    "with open(\"../entsoe-api-key.txt\", \"r\") as f:\n",
    "    api_token = json.load(f)[\"apiToken\"]"
   ]
  },
  {
   "cell_type": "code",
   "execution_count": null,
   "id": "4014cba7",
   "metadata": {},
   "outputs": [],
   "source": [
    "# Define client\n",
    "client = EntsoeClient(api_token=api_token)\n",
    "\n",
    "# Define start and end dates for query\n",
    "start_date = dt.datetime(2015, 1, 1, 0, 0, 0)\n",
    "end_date = dt.datetime(2021, 8, 1, 0, 0, 0)\n",
    "date_range = pd.date_range(start_date, end_date, freq=\"MS\")\n",
    "\n",
    "# Run data retrieval\n",
    "dfs = []\n",
    "with tqdm(list(zip(date_range, date_range[1:])), desc=\"Data retrieval for\", total=len(date_range)-1) as t:\n",
    "    for (start, end) in t:\n",
    "        t.set_description(\n",
    "            f\"Data retrieval for {start.strftime('%Y-%m-%d')} - {end.strftime('%Y-%m-%d')}\"\n",
    "        )\n",
    "        dfs.append(\n",
    "            client.extract_data(\n",
    "                client.query(\n",
    "                    document=Document.total_load,\n",
    "                    process=Process.actual,\n",
    "                    area=Area.hertz_50,\n",
    "                    dt_start=start,\n",
    "                    dt_end=end\n",
    "                ),\n",
    "                convert_utc_to_local_tz=False\n",
    "            )\n",
    "        )\n",
    "\n",
    "# Concat data\n",
    "df = pd.concat(dfs).set_index(\"timestamp\")\n",
    "\n",
    "# To csv\n",
    "df.to_csv(\"../data/de-50hertz-demand-data.csv\")"
   ]
  },
  {
   "cell_type": "code",
   "execution_count": null,
   "id": "ed25ef8f",
   "metadata": {},
   "outputs": [],
   "source": []
  }
 ],
 "metadata": {
  "kernelspec": {
   "display_name": "german-power-grid",
   "language": "python",
   "name": "german-power-grid"
  },
  "language_info": {
   "codemirror_mode": {
    "name": "ipython",
    "version": 3
   },
   "file_extension": ".py",
   "mimetype": "text/x-python",
   "name": "python",
   "nbconvert_exporter": "python",
   "pygments_lexer": "ipython3",
   "version": "3.7.2"
  }
 },
 "nbformat": 4,
 "nbformat_minor": 5
}
